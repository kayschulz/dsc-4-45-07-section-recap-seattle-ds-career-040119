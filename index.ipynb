{
 "cells": [
  {
   "cell_type": "markdown",
   "metadata": {},
   "source": [
    "# Section Recap"
   ]
  },
  {
   "cell_type": "markdown",
   "metadata": {},
   "source": [
    "## Introduction\n",
    "\n",
    "This short lesson summarizes key takeaways from section 44."
   ]
  },
  {
   "cell_type": "markdown",
   "metadata": {},
   "source": [
    "## Objectives\n",
    "You will be able to:\n",
    "* Understand and explain what was covered in this section\n",
    "* Understand and explain why this section will help you become a data scientist"
   ]
  },
  {
   "cell_type": "markdown",
   "metadata": {},
   "source": [
    "## Key Takeaways\n",
    "\n",
    "The key takeaways from this section include:\n",
    "\n",
    "* Word Embeddings are a type of vectorization strategy that computes word vectors from a text corpus\n",
    "* Word embeddings use similarity metrics, which can reveal how certain words relate to each other, or \"semantic relationships\"\n",
    "* Unlike TF-IDF vectorization, the size of word embeddings is a tunable parameter, which can help overcoming the Curse of Dimensionality\n",
    "* Word Embeddings can be created using so-called \"Word2Vec\" models that are given enough training data\n",
    "* Deep learning is used to create Word2Vec models, and the idea is that given a certain context, the model should be able to generate the next most plausible word in the sequence\n",
    "* Training Word Embeddings can be really time consuming, and when building a predictive model you'd want to avoid spending a lot of time here. Pretrained Word Vectors are very useful here, and GLoVe is the most commoly used model\n",
    "* When using GLoVe, and moving towards a vector representation for any arbitrarily-sized block of text, Mean Word Embeddings can be used\n",
    "* scikit-learn pipelines can be used to create Mean Word Embeddings"
   ]
  }
 ],
 "metadata": {
  "kernelspec": {
   "display_name": "Python 3",
   "language": "python",
   "name": "python3"
  },
  "language_info": {
   "codemirror_mode": {
    "name": "ipython",
    "version": 3
   },
   "file_extension": ".py",
   "mimetype": "text/x-python",
   "name": "python",
   "nbconvert_exporter": "python",
   "pygments_lexer": "ipython3",
   "version": "3.6.6"
  }
 },
 "nbformat": 4,
 "nbformat_minor": 2
}
